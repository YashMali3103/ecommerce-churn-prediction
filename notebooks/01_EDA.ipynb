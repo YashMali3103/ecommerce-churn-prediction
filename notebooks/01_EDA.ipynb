{
 "cells": [
  {
   "cell_type": "code",
   "execution_count": null,
   "id": "5996f6b7",
   "metadata": {},
   "outputs": [],
   "source": [
    "# Step 1: Import libraries\n",
    "\n",
    "import pandas as pd\n",
    "import numpy as np\n",
    "import matplotlib.pyplot as plt\n",
    "import seaborn as sns\n",
    "%matplotlib inline\n"
   ]
  },
  {
   "cell_type": "code",
   "execution_count": null,
   "id": "8f035a91",
   "metadata": {},
   "outputs": [
    {
     "name": "stderr",
     "output_type": "stream",
     "text": [
      "<>:1: SyntaxWarning: invalid escape sequence '\\d'\n",
      "<>:1: SyntaxWarning: invalid escape sequence '\\d'\n",
      "C:\\Users\\DELL\\AppData\\Local\\Temp\\ipykernel_10700\\3824200816.py:1: SyntaxWarning: invalid escape sequence '\\d'\n",
      "  df = pd.read_csv('D:\\data analyst\\ML project\\ecommerce-churn-prediction\\data\\data_ecommerce_customer_churn.csv')\n"
     ]
    },
    {
     "data": {
      "text/html": [
       "<div>\n",
       "<style scoped>\n",
       "    .dataframe tbody tr th:only-of-type {\n",
       "        vertical-align: middle;\n",
       "    }\n",
       "\n",
       "    .dataframe tbody tr th {\n",
       "        vertical-align: top;\n",
       "    }\n",
       "\n",
       "    .dataframe thead th {\n",
       "        text-align: right;\n",
       "    }\n",
       "</style>\n",
       "<table border=\"1\" class=\"dataframe\">\n",
       "  <thead>\n",
       "    <tr style=\"text-align: right;\">\n",
       "      <th></th>\n",
       "      <th>Tenure</th>\n",
       "      <th>WarehouseToHome</th>\n",
       "      <th>NumberOfDeviceRegistered</th>\n",
       "      <th>PreferedOrderCat</th>\n",
       "      <th>SatisfactionScore</th>\n",
       "      <th>MaritalStatus</th>\n",
       "      <th>NumberOfAddress</th>\n",
       "      <th>Complain</th>\n",
       "      <th>DaySinceLastOrder</th>\n",
       "      <th>CashbackAmount</th>\n",
       "      <th>Churn</th>\n",
       "    </tr>\n",
       "  </thead>\n",
       "  <tbody>\n",
       "    <tr>\n",
       "      <th>0</th>\n",
       "      <td>15.0</td>\n",
       "      <td>29.0</td>\n",
       "      <td>4</td>\n",
       "      <td>Laptop &amp; Accessory</td>\n",
       "      <td>3</td>\n",
       "      <td>Single</td>\n",
       "      <td>2</td>\n",
       "      <td>0</td>\n",
       "      <td>7.0</td>\n",
       "      <td>143.32</td>\n",
       "      <td>0</td>\n",
       "    </tr>\n",
       "    <tr>\n",
       "      <th>1</th>\n",
       "      <td>7.0</td>\n",
       "      <td>25.0</td>\n",
       "      <td>4</td>\n",
       "      <td>Mobile</td>\n",
       "      <td>1</td>\n",
       "      <td>Married</td>\n",
       "      <td>2</td>\n",
       "      <td>0</td>\n",
       "      <td>7.0</td>\n",
       "      <td>129.29</td>\n",
       "      <td>0</td>\n",
       "    </tr>\n",
       "    <tr>\n",
       "      <th>2</th>\n",
       "      <td>27.0</td>\n",
       "      <td>13.0</td>\n",
       "      <td>3</td>\n",
       "      <td>Laptop &amp; Accessory</td>\n",
       "      <td>1</td>\n",
       "      <td>Married</td>\n",
       "      <td>5</td>\n",
       "      <td>0</td>\n",
       "      <td>7.0</td>\n",
       "      <td>168.54</td>\n",
       "      <td>0</td>\n",
       "    </tr>\n",
       "    <tr>\n",
       "      <th>3</th>\n",
       "      <td>20.0</td>\n",
       "      <td>25.0</td>\n",
       "      <td>4</td>\n",
       "      <td>Fashion</td>\n",
       "      <td>3</td>\n",
       "      <td>Divorced</td>\n",
       "      <td>7</td>\n",
       "      <td>0</td>\n",
       "      <td>NaN</td>\n",
       "      <td>230.27</td>\n",
       "      <td>0</td>\n",
       "    </tr>\n",
       "    <tr>\n",
       "      <th>4</th>\n",
       "      <td>30.0</td>\n",
       "      <td>15.0</td>\n",
       "      <td>4</td>\n",
       "      <td>Others</td>\n",
       "      <td>4</td>\n",
       "      <td>Single</td>\n",
       "      <td>8</td>\n",
       "      <td>0</td>\n",
       "      <td>8.0</td>\n",
       "      <td>322.17</td>\n",
       "      <td>0</td>\n",
       "    </tr>\n",
       "  </tbody>\n",
       "</table>\n",
       "</div>"
      ],
      "text/plain": [
       "   Tenure  WarehouseToHome  NumberOfDeviceRegistered    PreferedOrderCat  \\\n",
       "0    15.0             29.0                         4  Laptop & Accessory   \n",
       "1     7.0             25.0                         4              Mobile   \n",
       "2    27.0             13.0                         3  Laptop & Accessory   \n",
       "3    20.0             25.0                         4             Fashion   \n",
       "4    30.0             15.0                         4              Others   \n",
       "\n",
       "   SatisfactionScore MaritalStatus  NumberOfAddress  Complain  \\\n",
       "0                  3        Single                2         0   \n",
       "1                  1       Married                2         0   \n",
       "2                  1       Married                5         0   \n",
       "3                  3      Divorced                7         0   \n",
       "4                  4        Single                8         0   \n",
       "\n",
       "   DaySinceLastOrder  CashbackAmount  Churn  \n",
       "0                7.0          143.32      0  \n",
       "1                7.0          129.29      0  \n",
       "2                7.0          168.54      0  \n",
       "3                NaN          230.27      0  \n",
       "4                8.0          322.17      0  "
      ]
     },
     "execution_count": 2,
     "metadata": {},
     "output_type": "execute_result"
    }
   ],
   "source": [
    "#Step 2: Load your dataset\n",
    "\n",
    "df = pd.read_csv('D:\\data analyst\\ML project\\ecommerce-churn-prediction\\data\\data_ecommerce_customer_churn.csv')\n",
    "df.head()\n"
   ]
  },
  {
   "cell_type": "code",
   "execution_count": 4,
   "id": "b54059e5",
   "metadata": {},
   "outputs": [
    {
     "name": "stdout",
     "output_type": "stream",
     "text": [
      "<class 'pandas.core.frame.DataFrame'>\n",
      "RangeIndex: 3941 entries, 0 to 3940\n",
      "Data columns (total 11 columns):\n",
      " #   Column                    Non-Null Count  Dtype  \n",
      "---  ------                    --------------  -----  \n",
      " 0   Tenure                    3747 non-null   float64\n",
      " 1   WarehouseToHome           3772 non-null   float64\n",
      " 2   NumberOfDeviceRegistered  3941 non-null   int64  \n",
      " 3   PreferedOrderCat          3941 non-null   object \n",
      " 4   SatisfactionScore         3941 non-null   int64  \n",
      " 5   MaritalStatus             3941 non-null   object \n",
      " 6   NumberOfAddress           3941 non-null   int64  \n",
      " 7   Complain                  3941 non-null   int64  \n",
      " 8   DaySinceLastOrder         3728 non-null   float64\n",
      " 9   CashbackAmount            3941 non-null   float64\n",
      " 10  Churn                     3941 non-null   int64  \n",
      "dtypes: float64(4), int64(5), object(2)\n",
      "memory usage: 338.8+ KB\n"
     ]
    }
   ],
   "source": [
    "# Step 3: Understand the dataset\n",
    "\n",
    "df.info()\n",
    "\n"
   ]
  },
  {
   "cell_type": "code",
   "execution_count": 5,
   "id": "44059376",
   "metadata": {},
   "outputs": [
    {
     "data": {
      "text/html": [
       "<div>\n",
       "<style scoped>\n",
       "    .dataframe tbody tr th:only-of-type {\n",
       "        vertical-align: middle;\n",
       "    }\n",
       "\n",
       "    .dataframe tbody tr th {\n",
       "        vertical-align: top;\n",
       "    }\n",
       "\n",
       "    .dataframe thead th {\n",
       "        text-align: right;\n",
       "    }\n",
       "</style>\n",
       "<table border=\"1\" class=\"dataframe\">\n",
       "  <thead>\n",
       "    <tr style=\"text-align: right;\">\n",
       "      <th></th>\n",
       "      <th>Tenure</th>\n",
       "      <th>WarehouseToHome</th>\n",
       "      <th>NumberOfDeviceRegistered</th>\n",
       "      <th>SatisfactionScore</th>\n",
       "      <th>NumberOfAddress</th>\n",
       "      <th>Complain</th>\n",
       "      <th>DaySinceLastOrder</th>\n",
       "      <th>CashbackAmount</th>\n",
       "      <th>Churn</th>\n",
       "    </tr>\n",
       "  </thead>\n",
       "  <tbody>\n",
       "    <tr>\n",
       "      <th>count</th>\n",
       "      <td>3747.000000</td>\n",
       "      <td>3772.000000</td>\n",
       "      <td>3941.000000</td>\n",
       "      <td>3941.000000</td>\n",
       "      <td>3941.000000</td>\n",
       "      <td>3941.000000</td>\n",
       "      <td>3728.000000</td>\n",
       "      <td>3941.000000</td>\n",
       "      <td>3941.000000</td>\n",
       "    </tr>\n",
       "    <tr>\n",
       "      <th>mean</th>\n",
       "      <td>10.081398</td>\n",
       "      <td>15.650583</td>\n",
       "      <td>3.679269</td>\n",
       "      <td>3.088302</td>\n",
       "      <td>4.237757</td>\n",
       "      <td>0.282416</td>\n",
       "      <td>4.531652</td>\n",
       "      <td>176.707419</td>\n",
       "      <td>0.171023</td>\n",
       "    </tr>\n",
       "    <tr>\n",
       "      <th>std</th>\n",
       "      <td>8.498864</td>\n",
       "      <td>8.452301</td>\n",
       "      <td>1.013938</td>\n",
       "      <td>1.381832</td>\n",
       "      <td>2.626699</td>\n",
       "      <td>0.450232</td>\n",
       "      <td>3.667648</td>\n",
       "      <td>48.791784</td>\n",
       "      <td>0.376576</td>\n",
       "    </tr>\n",
       "    <tr>\n",
       "      <th>min</th>\n",
       "      <td>0.000000</td>\n",
       "      <td>5.000000</td>\n",
       "      <td>1.000000</td>\n",
       "      <td>1.000000</td>\n",
       "      <td>1.000000</td>\n",
       "      <td>0.000000</td>\n",
       "      <td>0.000000</td>\n",
       "      <td>0.000000</td>\n",
       "      <td>0.000000</td>\n",
       "    </tr>\n",
       "    <tr>\n",
       "      <th>25%</th>\n",
       "      <td>2.000000</td>\n",
       "      <td>9.000000</td>\n",
       "      <td>3.000000</td>\n",
       "      <td>2.000000</td>\n",
       "      <td>2.000000</td>\n",
       "      <td>0.000000</td>\n",
       "      <td>2.000000</td>\n",
       "      <td>145.700000</td>\n",
       "      <td>0.000000</td>\n",
       "    </tr>\n",
       "    <tr>\n",
       "      <th>50%</th>\n",
       "      <td>9.000000</td>\n",
       "      <td>14.000000</td>\n",
       "      <td>4.000000</td>\n",
       "      <td>3.000000</td>\n",
       "      <td>3.000000</td>\n",
       "      <td>0.000000</td>\n",
       "      <td>3.000000</td>\n",
       "      <td>163.340000</td>\n",
       "      <td>0.000000</td>\n",
       "    </tr>\n",
       "    <tr>\n",
       "      <th>75%</th>\n",
       "      <td>16.000000</td>\n",
       "      <td>21.000000</td>\n",
       "      <td>4.000000</td>\n",
       "      <td>4.000000</td>\n",
       "      <td>6.000000</td>\n",
       "      <td>1.000000</td>\n",
       "      <td>7.000000</td>\n",
       "      <td>195.250000</td>\n",
       "      <td>0.000000</td>\n",
       "    </tr>\n",
       "    <tr>\n",
       "      <th>max</th>\n",
       "      <td>61.000000</td>\n",
       "      <td>127.000000</td>\n",
       "      <td>6.000000</td>\n",
       "      <td>5.000000</td>\n",
       "      <td>22.000000</td>\n",
       "      <td>1.000000</td>\n",
       "      <td>46.000000</td>\n",
       "      <td>324.990000</td>\n",
       "      <td>1.000000</td>\n",
       "    </tr>\n",
       "  </tbody>\n",
       "</table>\n",
       "</div>"
      ],
      "text/plain": [
       "            Tenure  WarehouseToHome  NumberOfDeviceRegistered  \\\n",
       "count  3747.000000      3772.000000               3941.000000   \n",
       "mean     10.081398        15.650583                  3.679269   \n",
       "std       8.498864         8.452301                  1.013938   \n",
       "min       0.000000         5.000000                  1.000000   \n",
       "25%       2.000000         9.000000                  3.000000   \n",
       "50%       9.000000        14.000000                  4.000000   \n",
       "75%      16.000000        21.000000                  4.000000   \n",
       "max      61.000000       127.000000                  6.000000   \n",
       "\n",
       "       SatisfactionScore  NumberOfAddress     Complain  DaySinceLastOrder  \\\n",
       "count        3941.000000      3941.000000  3941.000000        3728.000000   \n",
       "mean            3.088302         4.237757     0.282416           4.531652   \n",
       "std             1.381832         2.626699     0.450232           3.667648   \n",
       "min             1.000000         1.000000     0.000000           0.000000   \n",
       "25%             2.000000         2.000000     0.000000           2.000000   \n",
       "50%             3.000000         3.000000     0.000000           3.000000   \n",
       "75%             4.000000         6.000000     1.000000           7.000000   \n",
       "max             5.000000        22.000000     1.000000          46.000000   \n",
       "\n",
       "       CashbackAmount        Churn  \n",
       "count     3941.000000  3941.000000  \n",
       "mean       176.707419     0.171023  \n",
       "std         48.791784     0.376576  \n",
       "min          0.000000     0.000000  \n",
       "25%        145.700000     0.000000  \n",
       "50%        163.340000     0.000000  \n",
       "75%        195.250000     0.000000  \n",
       "max        324.990000     1.000000  "
      ]
     },
     "execution_count": 5,
     "metadata": {},
     "output_type": "execute_result"
    }
   ],
   "source": [
    "df.describe()"
   ]
  },
  {
   "cell_type": "code",
   "execution_count": 6,
   "id": "fb4c1302",
   "metadata": {},
   "outputs": [
    {
     "data": {
      "text/plain": [
       "Tenure                      194\n",
       "WarehouseToHome             169\n",
       "NumberOfDeviceRegistered      0\n",
       "PreferedOrderCat              0\n",
       "SatisfactionScore             0\n",
       "MaritalStatus                 0\n",
       "NumberOfAddress               0\n",
       "Complain                      0\n",
       "DaySinceLastOrder           213\n",
       "CashbackAmount                0\n",
       "Churn                         0\n",
       "dtype: int64"
      ]
     },
     "execution_count": 6,
     "metadata": {},
     "output_type": "execute_result"
    }
   ],
   "source": [
    "df.isnull().sum()"
   ]
  },
  {
   "cell_type": "code",
   "execution_count": 8,
   "id": "3e25015a",
   "metadata": {},
   "outputs": [
    {
     "data": {
      "text/plain": [
       "(3941, 11)"
      ]
     },
     "execution_count": 8,
     "metadata": {},
     "output_type": "execute_result"
    }
   ],
   "source": [
    "df.shape"
   ]
  },
  {
   "cell_type": "markdown",
   "id": "45e7edb9",
   "metadata": {},
   "source": [
    "### understand customer behaviour"
   ]
  },
  {
   "cell_type": "code",
   "execution_count": 14,
   "id": "a39f1ee1",
   "metadata": {},
   "outputs": [
    {
     "name": "stdout",
     "output_type": "stream",
     "text": [
      "Average customer tenure (in months): 10.081398452095009\n",
      "Average days since last order: 4.531652360515022\n",
      "Average cashback received: 176.7074194366912\n"
     ]
    },
    {
     "name": "stderr",
     "output_type": "stream",
     "text": [
      "C:\\Users\\DELL\\AppData\\Local\\Temp\\ipykernel_10700\\190540215.py:14: FutureWarning: \n",
      "\n",
      "Passing `palette` without assigning `hue` is deprecated and will be removed in v0.14.0. Assign the `x` variable to `hue` and set `legend=False` for the same effect.\n",
      "\n",
      "  sns.countplot(data=df, x='SatisfactionScore', palette='Blues')\n"
     ]
    },
    {
     "data": {
      "image/png": "[encoded data removed]",
      "text/plain": [
       "<Figure size 640x480 with 1 Axes>"
      ]
     },
     "metadata": {},
     "output_type": "display_data"
    }
   ],
   "source": [
    "import matplotlib.pyplot as plt\n",
    "import seaborn as sns\n",
    "\n",
    "# Average tenure of customers\n",
    "print(\"Average customer tenure (in months):\",df['Tenure'].mean())\n",
    "\n",
    "# Average days since last order\n",
    "print(\"Average days since last order:\", df['DaySinceLastOrder'].mean())\n",
    "\n",
    "# Discount usage insight\n",
    "print(\"Average cashback received:\", df['CashbackAmount'].mean())\n",
    "\n",
    "# Satisfaction Score distribution\n",
    "sns.countplot(data=df, x='SatisfactionScore', palette='Blues')\n",
    "plt.title('Satisfaction Score Distribution')\n",
    "plt.show()"
   ]
  },
  {
   "cell_type": "markdown",
   "id": "6791dae6",
   "metadata": {},
   "source": [
    "#### Compare churn vs non-churn"
   ]
  },
  {
   "cell_type": "code",
   "execution_count": 15,
   "id": "a402af2c",
   "metadata": {},
   "outputs": [
    {
     "name": "stderr",
     "output_type": "stream",
     "text": [
      "C:\\Users\\DELL\\AppData\\Local\\Temp\\ipykernel_10700\\1719715131.py:2: FutureWarning: \n",
      "\n",
      "Passing `palette` without assigning `hue` is deprecated and will be removed in v0.14.0. Assign the `x` variable to `hue` and set `legend=False` for the same effect.\n",
      "\n",
      "  sns.countplot(data=df, x='Churn', palette='Set2')\n"
     ]
    },
    {
     "data": {
      "image/png": "[encoded data removed]",
      "text/plain": [
       "<Figure size 640x480 with 1 Axes>"
      ]
     },
     "metadata": {},
     "output_type": "display_data"
    }
   ],
   "source": [
    "# Churn counts\n",
    "sns.countplot(data=df, x='Churn', palette='Set2')\n",
    "plt.title('Churn vs Non-Churn Customers')\n",
    "plt.xticks([0, 1], ['Not Churned', 'Churned'])\n",
    "plt.show()"
   ]
  },
  {
   "cell_type": "code",
   "execution_count": 16,
   "id": "7a870b6d",
   "metadata": {},
   "outputs": [
    {
     "name": "stderr",
     "output_type": "stream",
     "text": [
      "C:\\Users\\DELL\\AppData\\Local\\Temp\\ipykernel_10700\\231238971.py:2: FutureWarning: \n",
      "\n",
      "Passing `palette` without assigning `hue` is deprecated and will be removed in v0.14.0. Assign the `x` variable to `hue` and set `legend=False` for the same effect.\n",
      "\n",
      "  sns.boxplot(data=df, x='Churn', y='Tenure', palette='Pastel1')\n"
     ]
    },
    {
     "data": {
      "image/png": "[encoded data removed]",
      "text/plain": [
       "<Figure size 640x480 with 1 Axes>"
      ]
     },
     "metadata": {},
     "output_type": "display_data"
    }
   ],
   "source": [
    "# Tenure vs Churn\n",
    "sns.boxplot(data=df, x='Churn', y='Tenure', palette='Pastel1')\n",
    "plt.title('Customer Tenure vs Churn')\n",
    "plt.xticks([0, 1], ['Not Churned', 'Churned'])\n",
    "plt.show()"
   ]
  },
  {
   "cell_type": "code",
   "execution_count": 17,
   "id": "3f91d0d6",
   "metadata": {},
   "outputs": [
    {
     "name": "stderr",
     "output_type": "stream",
     "text": [
      "C:\\Users\\DELL\\AppData\\Local\\Temp\\ipykernel_10700\\2906541994.py:2: FutureWarning: \n",
      "\n",
      "Passing `palette` without assigning `hue` is deprecated and will be removed in v0.14.0. Assign the `x` variable to `hue` and set `legend=False` for the same effect.\n",
      "\n",
      "  sns.boxplot(data=df, x='Churn', y='CashbackAmount', palette='Pastel2')\n"
     ]
    },
    {
     "data": {
      "image/png": "[encoded data removed]",
      "text/plain": [
       "<Figure size 640x480 with 1 Axes>"
      ]
     },
     "metadata": {},
     "output_type": "display_data"
    }
   ],
   "source": [
    "# Cashback vs Churn\n",
    "sns.boxplot(data=df, x='Churn', y='CashbackAmount', palette='Pastel2')\n",
    "plt.title('Cashback Amount vs Churn')\n",
    "plt.xticks([0, 1], ['Not Churned', 'Churned'])\n",
    "plt.show()"
   ]
  },
  {
   "cell_type": "markdown",
   "id": "cb5b626d",
   "metadata": {},
   "source": [
    "### Check categorical feature impact on churn (Optional but useful)"
   ]
  },
  {
   "cell_type": "code",
   "execution_count": 18,
   "id": "6a41b8db",
   "metadata": {},
   "outputs": [
    {
     "data": {
      "image/png": "[encoded data removed]",
      "text/plain": [
       "<Figure size 640x480 with 1 Axes>"
      ]
     },
     "metadata": {},
     "output_type": "display_data"
    }
   ],
   "source": [
    "# Prefered order category vs churn (if not yet one-hot encoded)\n",
    "if 'PreferedOrderCat' in df.columns:\n",
    "    sns.countplot(data=df, x='PreferedOrderCat', hue='Churn', palette='coolwarm')\n",
    "    plt.title('Preferred Order Category vs Churn')\n",
    "    plt.xticks(rotation=45)\n",
    "    plt.show()"
   ]
  },
  {
   "cell_type": "code",
   "execution_count": 19,
   "id": "6f277af1",
   "metadata": {},
   "outputs": [
    {
     "name": "stderr",
     "output_type": "stream",
     "text": [
      "C:\\Users\\DELL\\AppData\\Local\\Temp\\ipykernel_10700\\3390564090.py:1: FutureWarning: A value is trying to be set on a copy of a DataFrame or Series through chained assignment using an inplace method.\n",
      "The behavior will change in pandas 3.0. This inplace method will never work because the intermediate object on which we are setting values always behaves as a copy.\n",
      "\n",
      "For example, when doing 'df[col].method(value, inplace=True)', try using 'df.method({col: value}, inplace=True)' or df[col] = df[col].method(value) instead, to perform the operation inplace on the original object.\n",
      "\n",
      "\n",
      "  df['Tenure'].fillna(df['Tenure'].median(), inplace=True)\n",
      "C:\\Users\\DELL\\AppData\\Local\\Temp\\ipykernel_10700\\3390564090.py:2: FutureWarning: A value is trying to be set on a copy of a DataFrame or Series through chained assignment using an inplace method.\n",
      "The behavior will change in pandas 3.0. This inplace method will never work because the intermediate object on which we are setting values always behaves as a copy.\n",
      "\n",
      "For example, when doing 'df[col].method(value, inplace=True)', try using 'df.method({col: value}, inplace=True)' or df[col] = df[col].method(value) instead, to perform the operation inplace on the original object.\n",
      "\n",
      "\n",
      "  df['WarehouseToHome'].fillna(df['WarehouseToHome'].median(), inplace=True)\n",
      "C:\\Users\\DELL\\AppData\\Local\\Temp\\ipykernel_10700\\3390564090.py:3: FutureWarning: A value is trying to be set on a copy of a DataFrame or Series through chained assignment using an inplace method.\n",
      "The behavior will change in pandas 3.0. This inplace method will never work because the intermediate object on which we are setting values always behaves as a copy.\n",
      "\n",
      "For example, when doing 'df[col].method(value, inplace=True)', try using 'df.method({col: value}, inplace=True)' or df[col] = df[col].method(value) instead, to perform the operation inplace on the original object.\n",
      "\n",
      "\n",
      "  df['DaySinceLastOrder'].fillna(df['DaySinceLastOrder'].median(), inplace=True)\n"
     ]
    }
   ],
   "source": [
    "df['Tenure'].fillna(df['Tenure'].median(), inplace=True)\n",
    "df['WarehouseToHome'].fillna(df['WarehouseToHome'].median(), inplace=True)\n",
    "df['DaySinceLastOrder'].fillna(df['DaySinceLastOrder'].median(), inplace=True)"
   ]
  },
  {
   "cell_type": "code",
   "execution_count": 20,
   "id": "d1656440",
   "metadata": {},
   "outputs": [
    {
     "name": "stdout",
     "output_type": "stream",
     "text": [
      "Tenure                      0\n",
      "WarehouseToHome             0\n",
      "NumberOfDeviceRegistered    0\n",
      "PreferedOrderCat            0\n",
      "SatisfactionScore           0\n",
      "MaritalStatus               0\n",
      "NumberOfAddress             0\n",
      "Complain                    0\n",
      "DaySinceLastOrder           0\n",
      "CashbackAmount              0\n",
      "Churn                       0\n",
      "dtype: int64\n"
     ]
    }
   ],
   "source": [
    "print(df.isnull().sum())\n"
   ]
  },
  {
   "cell_type": "markdown",
   "id": "c7d21605",
   "metadata": {},
   "source": [
    "## EDA Summary"
   ]
  },
  {
   "cell_type": "markdown",
   "id": "ed2e7b63",
   "metadata": {},
   "source": [
    "\n",
    "\n",
    "\n",
    "Data Overview:\n",
    "\n",
    "The dataset contains 3941 entries and 11 columns.\n",
    "There are three columns with missing values: Tenure, WarehouseToHome, and DaySinceLastOrder. The number of missing values are 194, 169, and 213 respectively.\n",
    "The data types are a mix of float64, int64, and object.\n",
    "\n",
    "Other Key Observations:\n",
    "\n",
    "Satisfaction Score: The Satisfaction Score Distribution bar chart shows that the most common satisfaction score is 3, followed by scores of 1 and 5. Scores of 2 and 4 are less frequent.\n",
    "\n",
    "Missing Values: The presence of missing values in Tenure, WarehouseToHome, and DaySinceLastOrder will require attention. These values will need to be handled, likely through imputation or removal of the rows, before a machine learning model can be trained.\n",
    "\n",
    "Summary Statistics:\n",
    "\n",
    "The average Tenure is approximately 10 months.\n",
    "\n",
    "The average CashbackAmount is around 176.7.\n",
    "\n",
    "The Churn rate is about 17.1% (0.171023×100)."
   ]
  },
  {
   "cell_type": "markdown",
   "id": "ee5bdd7c",
   "metadata": {},
   "source": []
  },
  {
   "cell_type": "markdown",
   "id": "a4759997",
   "metadata": {},
   "source": [
    "### Encode Categorical Variables"
   ]
  },
  {
   "cell_type": "code",
   "execution_count": null,
   "id": "4cadbcac",
   "metadata": {},
   "outputs": [
    {
     "name": "stdout",
     "output_type": "stream",
     "text": [
      "\n",
      "Unique values in PreferedOrderCat: ['Laptop & Accessory' 'Mobile' 'Fashion' 'Others' 'Mobile Phone' 'Grocery']\n",
      "Unique values in MaritalStatus: ['Single' 'Married' 'Divorced']\n"
     ]
    }
   ],
   "source": [
    "# Print unique values before encoding\n",
    "print(\"\\nUnique values in PreferedOrderCat:\", df['PreferedOrderCat'].unique())\n",
    "print(\"Unique values in MaritalStatus:\", df['MaritalStatus'].unique())"
   ]
  },
  {
   "cell_type": "code",
   "execution_count": null,
   "id": "24997fbb",
   "metadata": {},
   "outputs": [],
   "source": [
    "df = pd.get_dummies(df, columns=['PreferedOrderCat', 'MaritalStatus'], drop_first=True)"
   ]
  },
  {
   "cell_type": "markdown",
   "id": "4d0f1352",
   "metadata": {},
   "source": [
    "### Check for duplicates"
   ]
  },
  {
   "cell_type": "code",
   "execution_count": null,
   "id": "e1083b54",
   "metadata": {},
   "outputs": [
    {
     "name": "stdout",
     "output_type": "stream",
     "text": [
      "\n",
      "Duplicate rows: 672\n"
     ]
    }
   ],
   "source": [
    "duplicates = df.duplicated().sum()\n",
    "print(f\"\\nDuplicate rows: {duplicates}\")\n",
    "df.drop_duplicates(inplace=True)"
   ]
  },
  {
   "cell_type": "code",
   "execution_count": null,
   "id": "5e4a8451",
   "metadata": {},
   "outputs": [],
   "source": []
  }
 ],
 "metadata": {
  "kernelspec": {
   "display_name": "venv",
   "language": "python",
   "name": "python3"
  },
  "language_info": {
   "codemirror_mode": {
    "name": "ipython",
    "version": 3
   },
   "file_extension": ".py",
   "mimetype": "text/x-python",
   "name": "python",
   "nbconvert_exporter": "python",
   "pygments_lexer": "ipython3",
   "version": "3.13.5"
  }
 },
 "nbformat": 4,
 "nbformat_minor": 5
}
